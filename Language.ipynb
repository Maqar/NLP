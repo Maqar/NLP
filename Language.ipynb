{
 "cells": [
  {
   "cell_type": "markdown",
   "metadata": {},
   "source": [
    "Тексты"
   ]
  },
  {
   "cell_type": "code",
   "execution_count": 101,
   "metadata": {},
   "outputs": [],
   "source": [
    "text_ru = 'Отец мой Андрей Петрович Гринев в молодости своей служил при графе Минихе и вышел в отставку премьер-майором в 17.. году. С тех пор жил он в своей Симбирской деревне, где и женился на девице Авдотье Васильевне Ю., дочери бедного тамошнего дворянина.'"
   ]
  },
  {
   "cell_type": "code",
   "execution_count": 103,
   "metadata": {},
   "outputs": [],
   "source": [
    "text_uk = 'Сади захлинаються біло-рожевим цвітом. Здається, навкруги немає нічого, крім цього неймовірного шумовиння по-весняному щасливих дерев: черешень і вишень, абрикосів і слив, яблунь і груш. А над усім цим, немов наречена в білому серпанку, гордовито підіймає заплетені в коси гнучкі віти черемшина. Скидаючи донизу пелюстки-сльози, вона ніби засніжує все довкола.'"
   ]
  },
  {
   "cell_type": "code",
   "execution_count": 105,
   "metadata": {},
   "outputs": [],
   "source": [
    "text_bl = 'Ля вёскі Сасноўка салдаты вучыліся ваяваць. Была спёка. Хацелася піць. Адзін салдат ўзяў рыдлёўку і расчысціў крынічку. Другі паглыбіў яе. Крынічка забруіла, напоўнілася да берагоў. На наступны дзень салдаты прынеслі да крыніцы бярвенцы і зрабілі зруб. Хтосьці сплёў кошык з бяросты і павесіў на алешыне. Праз тыдзень салдаты паехалі. А што ж крынічка?'"
   ]
  },
  {
   "cell_type": "code",
   "execution_count": 106,
   "metadata": {},
   "outputs": [],
   "source": [
    "text_en = 'One of the most alarming forms of air pollution is acid rain. It results from the release into the atmosphere of sulphur and nitrogen oxides that react with water droplets and return to earth in the form of acid rain, mist or snow. Acid rain is killing forests in Canada, the USA, and central and northern Europe.'"
   ]
  },
  {
   "cell_type": "code",
   "execution_count": 107,
   "metadata": {},
   "outputs": [],
   "source": [
    "text_de = 'Goethe studierte Jura zuerst in Leipzig und dann in Straβburg. Auβerdem studierte er Naturwissenschaften und Medizin. In Leipzig verbrachte er drei Jahre. Hier entstanden die lyrischen Gedichte, die als «Lieder für Käthchen Schönkopf» bekannt sind. Sie sind klangvoll und leidenschaftlich. In der Zeit von 1768 bis 1777 erkrankte Goethe schwer.'"
   ]
  },
  {
   "cell_type": "code",
   "execution_count": 108,
   "metadata": {},
   "outputs": [],
   "source": [
    "text_fr = 'Dimanche est mon jour de repos. Je me réveille plus tard que d’habitude, vers dix heures du matin. Je me lève, je prends ma douche et je prends mon petit déjeuner. Après le petit déjeuner je regarde la télé ou je lis des livres. Ensuite, je vais au magasin pour faire les courses pour toute la semaine. J’adore passer le weekend avec ma famille.'"
   ]
  },
  {
   "cell_type": "code",
   "execution_count": 86,
   "metadata": {},
   "outputs": [],
   "source": [
    "text_sp = 'Me llamo Alejandro Makovski, soy de Moscú. Tengo dieciseis años. Llevo cinco años estudiando español. Acabo de terminar el bachillerato en el colegio cincuenta y siete. Ahora pienso entrar en la facultad de filología de la Universidad estatal de Moscú. Quisiera aprender otros idiomas porque me hace ilusión trabajar de traductor. Bueno, de intérprete también.'"
   ]
  },
  {
   "cell_type": "code",
   "execution_count": 109,
   "metadata": {},
   "outputs": [],
   "source": [
    "text_it = 'Milano è un importante centro industriale e commerciale, bella città, ricca di opere d’arte e di monumenti storici, tra cui ammiriamo lo splendido Duomo di marmo bianco, ornato di statue di santi, guerrieri e mostri. L’opera colossale che ha richiesto secoli di lavoro ed il contributo di molte generazioni, venne iniziata nel 1386.'"
   ]
  },
  {
   "cell_type": "code",
   "execution_count": 110,
   "metadata": {},
   "outputs": [],
   "source": [
    "text_ven = 'Minden személynek joga van a neveléshez. A nevelésnek, legalábbis az elemi és alapvető oktatást illetően, ingyenesnek kell lennie. Az elemi oktatás kötelező. A technikai és szakoktatást általánossá kell tenni; a felsőbb tanulmányokra való felvételnek mindenki előtt -érdeméhez képest- egyenlő feltételek mellett nyitva kell állnia.'"
   ]
  },
  {
   "cell_type": "code",
   "execution_count": 111,
   "metadata": {},
   "outputs": [],
   "source": [
    "text_nid = 'Het is een warme dag in Nederland. Het is 34°C (vierendertig graden Celsius). Dat is raar ! Nederland is toch altijd koud en nat? Nee, vandaag niet. Olinde ligt in de tuin op een handdoek. Zij leest een boek. Zij draagt een bikini en drinkt koude limonade. Danilo speelt in een zwembadje met water.'"
   ]
  },
  {
   "cell_type": "code",
   "execution_count": 112,
   "metadata": {},
   "outputs": [],
   "source": [
    "text_tur = 'Saray 700 000 m2 alana yayılmaktadır. Topkapı Sarayının inşasında, değişik tarih dönemlerinde, köşkler ve binalar yapıldığı için, bunların zamanın tesiri altında kaldığını bellidir. Sarayın giriş kapılarının en önemlileri Bab-ı Hümayun, Bab-ı Selam ve Bab-ı Saadettir. Topkapı Sarayı Müzesi`nin bugünkü esas giriş kapısı Bab-ı Selamdır.'"
   ]
  },
  {
   "cell_type": "code",
   "execution_count": 113,
   "metadata": {},
   "outputs": [],
   "source": [
    "text_por = 'Homens de todo o mundo já passaram por esta aldeia, filho – disse o pai. – Vêm em busca de coisas novas, mas continuam as mesmas pessoas. Vão até o morro conhecer o castelo e acham que o passado era melhor que o presente. Têm cabelos louros ou pele escura, mas são iguais aos homens de nossa aldeia.'"
   ]
  },
  {
   "cell_type": "code",
   "execution_count": 114,
   "metadata": {},
   "outputs": [],
   "source": [
    "text_nor = 'Enhver har rett til fritt å delta i samfunnets kulturelle liv, til å nyte kunst og til å få del i den vitenskapelige framgang og dens goder. Enhver har rett til beskyttelse av de åndelige og materielle interesser som er et resultat av ethvert vitenskapelig, litterært eller kunstnerisk verk som han har skapt.'"
   ]
  },
  {
   "cell_type": "code",
   "execution_count": 115,
   "metadata": {},
   "outputs": [],
   "source": [
    "text_fin = 'Tyttö oli kunnollinen, ja hänellä oli hyvä maine. Hän ei halunnut puhua Hugon kanssa. Niinpä Hugo ryösti tytön. Hän vangitsi tytön kartanonsa yläkertaan. Kun Hugo juhli ja ryyppäsi ystäviensä kanssa, tyttö kuunteli yläkerrassa ja suri ja pelkäsi.Lopulta hän karkasi ikkunasta | ja laskeutui alas köynnöskasvia pitkin. Hän lähti pitkälle kotimatkalle yli nummen, joka oli pimeä ja vaarallinen.'"
   ]
  },
  {
   "cell_type": "code",
   "execution_count": null,
   "metadata": {},
   "outputs": [],
   "source": []
  },
  {
   "cell_type": "markdown",
   "metadata": {},
   "source": [
    "Программа"
   ]
  },
  {
   "cell_type": "code",
   "execution_count": 90,
   "metadata": {},
   "outputs": [],
   "source": [
    "ru = ['и', 'в', 'не', 'он', 'на', 'я', 'что', 'тот', 'быть', 'с']\n",
    "uk = ['і', 'не', 'на', 'в', 'до', 'з', 'а', 'та', 'що', 'у']\n",
    "bl = ['і', 'на', 'як', 'з', 'не', 'у', 'ў', 'што', 'да', 'па']\n",
    "en = ['a', 'the', 'be', 'of', 'and', 'in', 'to', 'have', 'it', 'for']\n",
    "de = ['der', 'die', 'und', 'in', 'den', 'von', 'zu', 'das', 'mit', 'sich']\n",
    "fr = ['de', 'la', 'le', 'et', 'les', 'des', 'en', 'un', 'du', 'une']\n",
    "sp = ['de', 'que', 'no', 'a', 'la', 'el', 'es', 'y', 'en', 'lo']\n",
    "it = ['non', 'di', 'che', 'e', 'la', 'un', 'il', 'a', 'per', 'in']\n",
    "ven = ['a', 'hogy', 'nem', 'egy', 'meg', 'csak', 'vagy', 'van', 'volt', 'már']\n",
    "nid = ['de', 'van', 'een', 'het', 'en', 'in', 'is', 'dat', 'op', 'te']\n",
    "tur = ['bir', 've', 'olmak', 'bu', 'o', 'için', 'ben', 'demek', 'çok', 'yapmak']\n",
    "por = ['o', 'de', 'para', 'que', 'e', 'ser', 'um', 'em', 'a', 'com']\n",
    "nor = ['i', 'og', 'det', 'er', 'pe', 'til', 'som', 'en', 'e', 'for']\n",
    "fin = ['olla', 'ja', 'ei', 'se', 'että', 'joka', 'vuosi', 'hän', 'myös', 'saada']\n"
   ]
  },
  {
   "cell_type": "code",
   "execution_count": 99,
   "metadata": {},
   "outputs": [],
   "source": [
    "LG = [ru, uk, bl, en, de, fr, sp, it, ven, nid, tur, por, nor, fin]\n",
    "LG_n = ('ru', 'uk', 'bl', 'en', 'de', 'fr', 'sp', 'it', 'ven', 'nid', 'tur', 'por', 'nor', 'fin')"
   ]
  },
  {
   "cell_type": "code",
   "execution_count": 8,
   "metadata": {},
   "outputs": [],
   "source": [
    "import string\n",
    "\n",
    "spec_chars = string.punctuation + '—-«»'\n",
    "\n",
    "def remove_chars_from_text(text, chars):\n",
    "    #удаляет из текста все знаки пунктуации\n",
    "    return \"\".join([ch for ch in text if ch not in chars])\n",
    "\n",
    "def text_p(text):\n",
    "    #приводим все буквы с нижнему регистру и удаляем знаки пунктуации\n",
    "    text = text.lower()\n",
    "    text = remove_chars_from_text(text, spec_chars)\n",
    "    return text"
   ]
  },
  {
   "cell_type": "code",
   "execution_count": 74,
   "metadata": {},
   "outputs": [
    {
     "data": {
      "text/plain": [
       "'ля вёскі сасноўка салдаты вучыліся ваяваць была спёка хацелася піць адзін салдат ўзяў рыдлёўку і расчысціў крынічку другі паглыбіў яе крынічка забруіла напоўнілася да берагоў на наступны дзень салдаты прынеслі да крыніцы бярвенцы і зрабілі зруб хтосьці сплёў кошык з бяросты і павесіў на алешыне праз тыдзень салдаты паехалі а што ж крынічка яна і зараз пераліваецца тонкімі струменьчыкамі каля крынічкі кіпіць жыцце палявым мышкам цікава паслухаць яе чароўную музыку блакітныя незабудкі зазіраюць у яе люстэрка уся веска пе ваду з крынічкі добрую памяць пакінулі салдаты'"
      ]
     },
     "execution_count": 74,
     "metadata": {},
     "output_type": "execute_result"
    }
   ],
   "source": [
    "text_p(text_bl)"
   ]
  },
  {
   "cell_type": "code",
   "execution_count": 4,
   "metadata": {},
   "outputs": [],
   "source": [
    "import re\n",
    "\n",
    "def stat_words(text):\n",
    "    #считаем статистику слов по тексту и выводим 10 самых используемых \n",
    "    text = text_p(text)\n",
    "    \n",
    "    words = re.findall(r\"(\\w+)\", text, re.UNICODE)\n",
    "    l = len(words)\n",
    "\n",
    "    stats = {}\n",
    "    for word in words:\n",
    "        stats[word] = stats.get(word, 0) + 1/l\n",
    "\n",
    "    return sorted(stats, key=stats.get, reverse=True)[:10]"
   ]
  },
  {
   "cell_type": "code",
   "execution_count": 78,
   "metadata": {},
   "outputs": [
    {
     "data": {
      "text/plain": [
       "['салдаты', 'і', 'яе', 'крынічка', 'да', 'на', 'з', 'крынічкі', 'ля', 'вёскі']"
      ]
     },
     "execution_count": 78,
     "metadata": {},
     "output_type": "execute_result"
    }
   ],
   "source": [
    "stat_words(text_bl)"
   ]
  },
  {
   "cell_type": "code",
   "execution_count": 38,
   "metadata": {},
   "outputs": [],
   "source": [
    "import numpy as np"
   ]
  },
  {
   "cell_type": "code",
   "execution_count": 97,
   "metadata": {},
   "outputs": [],
   "source": [
    "def lang(text):\n",
    "    #возвращает язык текста путем сопоставления частоных слов\n",
    "    p = [0] * len(LG)\n",
    "    \n",
    "    word = stat_words(text)\n",
    "    \n",
    "    for j in range(len(LG)):\n",
    "        for i in word:\n",
    "            if i in LG[j]:\n",
    "                p[j] = p[j] + 1\n",
    "    \n",
    "    print(p)\n",
    "    return LG_n[np.argmax(p)]"
   ]
  },
  {
   "cell_type": "code",
   "execution_count": 102,
   "metadata": {},
   "outputs": [
    {
     "name": "stdout",
     "output_type": "stream",
     "text": [
      "[2, 1, 0, 0, 0, 0, 0, 0, 0, 0, 0, 0, 0, 0]\n"
     ]
    },
    {
     "data": {
      "text/plain": [
       "'ru'"
      ]
     },
     "execution_count": 102,
     "metadata": {},
     "output_type": "execute_result"
    }
   ],
   "source": [
    "lang(text_ru)"
   ]
  },
  {
   "cell_type": "code",
   "execution_count": 104,
   "metadata": {},
   "outputs": [
    {
     "name": "stdout",
     "output_type": "stream",
     "text": [
      "[1, 2, 1, 0, 0, 0, 0, 0, 0, 0, 0, 0, 0, 0]\n"
     ]
    },
    {
     "data": {
      "text/plain": [
       "'uk'"
      ]
     },
     "execution_count": 104,
     "metadata": {},
     "output_type": "execute_result"
    }
   ],
   "source": [
    "lang(text_uk)"
   ]
  },
  {
   "cell_type": "code",
   "execution_count": 116,
   "metadata": {},
   "outputs": [
    {
     "name": "stdout",
     "output_type": "stream",
     "text": [
      "[1, 2, 3, 0, 0, 0, 0, 0, 0, 0, 0, 0, 0, 0]\n"
     ]
    },
    {
     "data": {
      "text/plain": [
       "'bl'"
      ]
     },
     "execution_count": 116,
     "metadata": {},
     "output_type": "execute_result"
    }
   ],
   "source": [
    "lang(text_bl)"
   ]
  },
  {
   "cell_type": "code",
   "execution_count": 117,
   "metadata": {},
   "outputs": [
    {
     "name": "stdout",
     "output_type": "stream",
     "text": [
      "[0, 0, 0, 4, 1, 0, 0, 1, 0, 2, 0, 0, 0, 0]\n"
     ]
    },
    {
     "data": {
      "text/plain": [
       "'en'"
      ]
     },
     "execution_count": 117,
     "metadata": {},
     "output_type": "execute_result"
    }
   ],
   "source": [
    "lang(text_en)"
   ]
  },
  {
   "cell_type": "code",
   "execution_count": 118,
   "metadata": {},
   "outputs": [
    {
     "name": "stdout",
     "output_type": "stream",
     "text": [
      "[0, 0, 0, 1, 3, 0, 0, 1, 0, 1, 0, 0, 1, 0]\n"
     ]
    },
    {
     "data": {
      "text/plain": [
       "'de'"
      ]
     },
     "execution_count": 118,
     "metadata": {},
     "output_type": "execute_result"
    }
   ],
   "source": [
    "lang(text_de)"
   ]
  },
  {
   "cell_type": "code",
   "execution_count": 119,
   "metadata": {},
   "outputs": [
    {
     "name": "stdout",
     "output_type": "stream",
     "text": [
      "[0, 0, 0, 0, 0, 2, 1, 1, 0, 0, 0, 0, 0, 0]\n"
     ]
    },
    {
     "data": {
      "text/plain": [
       "'fr'"
      ]
     },
     "execution_count": 119,
     "metadata": {},
     "output_type": "execute_result"
    }
   ],
   "source": [
    "lang(text_fr)"
   ]
  },
  {
   "cell_type": "code",
   "execution_count": 120,
   "metadata": {},
   "outputs": [
    {
     "name": "stdout",
     "output_type": "stream",
     "text": [
      "[0, 0, 0, 1, 0, 3, 6, 2, 1, 2, 0, 2, 1, 0]\n"
     ]
    },
    {
     "data": {
      "text/plain": [
       "'sp'"
      ]
     },
     "execution_count": 120,
     "metadata": {},
     "output_type": "execute_result"
    }
   ],
   "source": [
    "lang(text_sp)"
   ]
  },
  {
   "cell_type": "code",
   "execution_count": 121,
   "metadata": {},
   "outputs": [
    {
     "name": "stdout",
     "output_type": "stream",
     "text": [
      "[0, 0, 0, 0, 0, 1, 0, 3, 0, 0, 0, 1, 1, 0]\n"
     ]
    },
    {
     "data": {
      "text/plain": [
       "'it'"
      ]
     },
     "execution_count": 121,
     "metadata": {},
     "output_type": "execute_result"
    }
   ],
   "source": [
    "lang(text_it)"
   ]
  },
  {
   "cell_type": "code",
   "execution_count": 122,
   "metadata": {},
   "outputs": [
    {
     "name": "stdout",
     "output_type": "stream",
     "text": [
      "[0, 0, 0, 1, 0, 0, 1, 1, 2, 1, 0, 1, 0, 0]\n"
     ]
    },
    {
     "data": {
      "text/plain": [
       "'ven'"
      ]
     },
     "execution_count": 122,
     "metadata": {},
     "output_type": "execute_result"
    }
   ],
   "source": [
    "lang(text_ven)"
   ]
  },
  {
   "cell_type": "code",
   "execution_count": 127,
   "metadata": {},
   "outputs": [
    {
     "name": "stdout",
     "output_type": "stream",
     "text": [
      "[0, 0, 0, 1, 1, 1, 1, 1, 0, 5, 0, 0, 1, 0]\n"
     ]
    },
    {
     "data": {
      "text/plain": [
       "'nid'"
      ]
     },
     "execution_count": 127,
     "metadata": {},
     "output_type": "execute_result"
    }
   ],
   "source": [
    "lang(text_nid)"
   ]
  },
  {
   "cell_type": "code",
   "execution_count": 123,
   "metadata": {},
   "outputs": [
    {
     "name": "stdout",
     "output_type": "stream",
     "text": [
      "[0, 0, 0, 0, 0, 0, 0, 0, 0, 0, 1, 0, 0, 0]\n"
     ]
    },
    {
     "data": {
      "text/plain": [
       "'tur'"
      ]
     },
     "execution_count": 123,
     "metadata": {},
     "output_type": "execute_result"
    }
   ],
   "source": [
    "lang(text_tur)"
   ]
  },
  {
   "cell_type": "code",
   "execution_count": 124,
   "metadata": {},
   "outputs": [
    {
     "name": "stdout",
     "output_type": "stream",
     "text": [
      "[0, 0, 0, 0, 0, 1, 2, 0, 0, 1, 1, 3, 0, 1]\n"
     ]
    },
    {
     "data": {
      "text/plain": [
       "'por'"
      ]
     },
     "execution_count": 124,
     "metadata": {},
     "output_type": "execute_result"
    }
   ],
   "source": [
    "lang(text_por)"
   ]
  },
  {
   "cell_type": "code",
   "execution_count": 125,
   "metadata": {},
   "outputs": [
    {
     "name": "stdout",
     "output_type": "stream",
     "text": [
      "[0, 0, 0, 0, 0, 0, 0, 0, 0, 0, 0, 0, 4, 0]\n"
     ]
    },
    {
     "data": {
      "text/plain": [
       "'nor'"
      ]
     },
     "execution_count": 125,
     "metadata": {},
     "output_type": "execute_result"
    }
   ],
   "source": [
    "lang(text_nor)"
   ]
  },
  {
   "cell_type": "code",
   "execution_count": 126,
   "metadata": {},
   "outputs": [
    {
     "name": "stdout",
     "output_type": "stream",
     "text": [
      "[0, 0, 0, 0, 0, 0, 0, 0, 0, 0, 0, 0, 0, 2]\n"
     ]
    },
    {
     "data": {
      "text/plain": [
       "'fin'"
      ]
     },
     "execution_count": 126,
     "metadata": {},
     "output_type": "execute_result"
    }
   ],
   "source": [
    "lang(text_fin)"
   ]
  }
 ],
 "metadata": {
  "kernelspec": {
   "display_name": "Python 3",
   "language": "python",
   "name": "python3"
  },
  "language_info": {
   "codemirror_mode": {
    "name": "ipython",
    "version": 3
   },
   "file_extension": ".py",
   "mimetype": "text/x-python",
   "name": "python",
   "nbconvert_exporter": "python",
   "pygments_lexer": "ipython3",
   "version": "3.8.3"
  }
 },
 "nbformat": 4,
 "nbformat_minor": 4
}
